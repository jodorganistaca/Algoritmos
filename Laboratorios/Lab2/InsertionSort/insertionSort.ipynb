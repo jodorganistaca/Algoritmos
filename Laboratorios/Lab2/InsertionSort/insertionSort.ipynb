{
 "cells": [
  {
   "cell_type": "markdown",
   "metadata": {},
   "source": [
    "# INSERTION SORT"
   ]
  },
  {
   "cell_type": "code",
   "execution_count": 7,
   "metadata": {},
   "outputs": [],
   "source": [
    "import matplotlib.pyplot as plt\n",
    "from itertools import permutations\n",
    "import random"
   ]
  },
  {
   "cell_type": "code",
   "execution_count": 7,
   "metadata": {},
   "outputs": [],
   "source": [
    "class Pasos:\n",
    "    def __init__(number):\n",
    "        number.steps = 0\n",
    "\n",
    "    def reiniciar(number):\n",
    "        number.steps = 0\n",
    "\n",
    "    def contar(number):\n",
    "        number.steps += 1\n",
    "\n",
    "    def getPasos(number):\n",
    "        return number.steps"
   ]
  },
  {
   "cell_type": "markdown",
   "metadata": {},
   "source": [
    "### Número de instrucciones"
   ]
  },
  {
   "cell_type": "code",
   "execution_count": 8,
   "metadata": {},
   "outputs": [
    {
     "name": "stdout",
     "output_type": "stream",
     "text": [
      "el promedio es :  25.0\n",
      "[25, 28, 28, 31, 31, 34, 22, 25, 19, 16, 22, 19, 25, 28, 22, 19, 25, 22, 28, 31, 25, 22, 28, 25]\n"
     ]
    },
    {
     "data": {
      "image/png": "[encoded data removed]",
      "text/plain": [
       "<Figure size 432x288 with 1 Axes>"
      ]
     },
     "metadata": {},
     "output_type": "display_data"
    }
   ],
   "source": [
    "def insertionsortSteps(A,inst):   \n",
    "    j = 1; inst.contar()\n",
    "    while j < len(A):      \n",
    "        key = A[j]; inst.contar()\n",
    "        i = j-1 ; inst.contar()\n",
    "        inst.contar()\n",
    "        while (i > -1) and (key < A[i]): \n",
    "            A[i+1]=A[i]; inst.contar()\n",
    "            i=i-1; inst.contar()\n",
    "            inst.contar()\n",
    "        A[i+1] = key; inst.contar()\n",
    "        j = j + 1; inst.contar()\n",
    "        \n",
    "n = 4\n",
    "muestra = random.sample(range(100),n)\n",
    "muestra = list (muestra)\n",
    "perm = list (permutations(muestra, n))\n",
    "f = n\n",
    "fac = 1\n",
    "arr = []\n",
    "while f > 0:\n",
    "    fac = fac * f\n",
    "    f = f -1\n",
    "for i in range(0,fac):\n",
    "    t = list(perm[i])\n",
    "    p = Pasos()\n",
    "    insertionsortSteps(t,p)\n",
    "    arr.append(p.getPasos())\n",
    "    \n",
    "prom = 0\n",
    "suma = 0    \n",
    "for k in range (0,len(arr)):\n",
    "    suma = suma + arr[k]\n",
    "    \n",
    "prom = (suma)/fac\n",
    "print (\"el promedio es : \",  prom)\n",
    "print (arr)\n",
    "plt.hist(arr,fac,(min(arr),max(arr)));\n"
   ]
  },
  {
   "cell_type": "markdown",
   "metadata": {},
   "source": [
    "### Comparaciones"
   ]
  },
  {
   "cell_type": "code",
   "execution_count": 12,
   "metadata": {},
   "outputs": [
    {
     "name": "stdout",
     "output_type": "stream",
     "text": [
      "el promedio es :  9.0\n",
      "[3, 5, 5, 7, 7, 9, 5, 7, 7, 9, 9, 11, 7, 9, 9, 11, 11, 13, 9, 11, 11, 13, 13, 15]\n"
     ]
    },
    {
     "data": {
      "image/png": "[encoded data removed]",
      "text/plain": [
       "<Figure size 432x288 with 1 Axes>"
      ]
     },
     "metadata": {},
     "output_type": "display_data"
    }
   ],
   "source": [
    "def insertionsortComparison(A,comp):   \n",
    "    j = 1\n",
    "    while j < len(A):      \n",
    "        key = A[j]\n",
    "        i = j-1 ;\n",
    "        comp.contar()\n",
    "        while (i > -1) and (key < A[i]): \n",
    "            comp.contar();comp.contar()\n",
    "            A[i+1]=A[i]            \n",
    "            i=i-1\n",
    "        A[i+1] = key\n",
    "        j = j + 1\n",
    "        \n",
    "n = 4\n",
    "muestra = random.sample(range(100),n)\n",
    "muestra = list (muestra)\n",
    "perm = list (permutations(muestra, n))\n",
    "f = n\n",
    "fac = 1\n",
    "arr = []\n",
    "while f > 0:\n",
    "    fac = fac * f\n",
    "    f = f -1\n",
    "for i in range(0,fac):\n",
    "    t = list(perm[i])\n",
    "    p = Pasos()\n",
    "    insertionsortComparison(t,p)\n",
    "    arr.append(p.getPasos())\n",
    "    \n",
    "prom = 0\n",
    "suma = 0    \n",
    "for k in range (0,len(arr)):\n",
    "    suma = suma + arr[k]\n",
    "    \n",
    "prom = (suma)/fac\n",
    "print (\"el promedio es : \",  prom)\n",
    "print (arr)\n",
    "plt.hist(arr,fac,(min(arr),max(arr)));"
   ]
  },
  {
   "cell_type": "markdown",
   "metadata": {},
   "source": [
    "### Intercambios"
   ]
  },
  {
   "cell_type": "code",
   "execution_count": 9,
   "metadata": {},
   "outputs": [
    {
     "name": "stdout",
     "output_type": "stream",
     "text": [
      "el promedio es :  3.0\n",
      "[6, 5, 5, 4, 4, 3, 5, 4, 4, 3, 3, 2, 4, 3, 3, 2, 2, 1, 3, 2, 2, 1, 1, 0]\n"
     ]
    },
    {
     "data": {
      "image/png": "[encoded data removed]",
      "text/plain": [
       "<Figure size 432x288 with 1 Axes>"
      ]
     },
     "metadata": {},
     "output_type": "display_data"
    }
   ],
   "source": [
    "def insertionsortSwaps(A,inter):   \n",
    "    j = 1\n",
    "    while j < len(A):      \n",
    "        key = A[j]\n",
    "        i = j-1 ;\n",
    "        while (i > -1) and (key < A[i]): \n",
    "            A[i+1]=A[i]\n",
    "            inter.contar()\n",
    "            i=i-1\n",
    "        A[i+1] = key\n",
    "        j = j + 1\n",
    "        \n",
    "n = 4\n",
    "muestra = random.sample(range(100),n)\n",
    "muestra = list (muestra)\n",
    "perm = list (permutations(muestra, n))\n",
    "f = n\n",
    "fac = 1\n",
    "arr = []\n",
    "while f > 0:\n",
    "    fac = fac * f\n",
    "    f = f -1\n",
    "for i in range(0,fac):\n",
    "    t = list(perm[i])\n",
    "    p = Pasos()\n",
    "    insertionsortSwaps(t,p)\n",
    "    arr.append(p.getPasos())\n",
    "    \n",
    "prom = 0\n",
    "suma = 0    \n",
    "for k in range (0,len(arr)):\n",
    "    suma = suma + arr[k]\n",
    "    \n",
    "prom = (suma)/fac\n",
    "print (\"el promedio es : \",  prom)\n",
    "print (arr)\n",
    "plt.hist(arr,fac,(min(arr),max(arr)));\n"
   ]
  },
  {
   "cell_type": "markdown",
   "metadata": {},
   "source": [
    "### Preguntas en el while"
   ]
  },
  {
   "cell_type": "code",
   "execution_count": 11,
   "metadata": {},
   "outputs": [
    {
     "name": "stdout",
     "output_type": "stream",
     "text": [
      "el promedio es :  6.0\n",
      "[8, 9, 7, 6, 8, 7, 7, 8, 6, 5, 7, 6, 6, 5, 5, 4, 4, 3, 7, 6, 6, 5, 5, 4]\n"
     ]
    },
    {
     "data": {
      "image/png": "[encoded data removed]",
      "text/plain": [
       "<Figure size 432x288 with 1 Axes>"
      ]
     },
     "metadata": {},
     "output_type": "display_data"
    }
   ],
   "source": [
    "def insertionsortQuestion(A,preg):   \n",
    "    j = 1\n",
    "    while j < len(A):      \n",
    "        key = A[j]\n",
    "        i = j-1 \n",
    "        preg.contar()\n",
    "        while (i > -1) and (key < A[i]): \n",
    "            A[i+1]=A[i]\n",
    "            preg.contar()\n",
    "            i=i-1\n",
    "        A[i+1] = key\n",
    "        j = j + 1\n",
    "        \n",
    "n = 4\n",
    "muestra = random.sample(range(100),n)\n",
    "muestra = list (muestra)\n",
    "perm = list (permutations(muestra, n))\n",
    "f = n\n",
    "fac = 1\n",
    "arr = []\n",
    "while f > 0:\n",
    "    fac = fac * f\n",
    "    f = f -1\n",
    "for i in range(0,fac):\n",
    "    t = list(perm[i])\n",
    "    p = Pasos()\n",
    "    insertionsortQuestion(t,p)\n",
    "    arr.append(p.getPasos())\n",
    "    \n",
    "prom = 0\n",
    "suma = 0    \n",
    "for k in range (0,len(arr)):\n",
    "    suma = suma + arr[k]\n",
    "    \n",
    "prom = (suma)/fac\n",
    "print (\"el promedio es : \",  prom)\n",
    "print (arr)\n",
    "plt.hist(arr,fac,(min(arr),max(arr)));"
   ]
  },
  {
   "cell_type": "markdown",
   "metadata": {},
   "source": [
    "#### Código Daniel Jimenez"
   ]
  },
  {
   "cell_type": "markdown",
   "metadata": {},
   "source": [
    "### Número de instrucciones"
   ]
  },
  {
   "cell_type": "code",
   "execution_count": 8,
   "metadata": {},
   "outputs": [
    {
     "name": "stdout",
     "output_type": "stream",
     "text": [
      "el promedio es :  25.0\n",
      "[16, 19, 19, 22, 25, 22, 19, 22, 22, 25, 28, 25, 25, 28, 22, 25, 28, 31, 31, 28, 34, 31, 28, 25]\n"
     ]
    },
    {
     "data": {
      "image/png": "[encoded data removed]",
      "text/plain": [
       "<Figure size 432x288 with 1 Axes>"
      ]
     },
     "metadata": {},
     "output_type": "display_data"
    }
   ],
   "source": [
    "import numpy as np\n",
    "\n",
    "npermut = 0\n",
    "total = 0\n",
    "cases = np.zeros(1001)\n",
    "arr = []\n",
    "\n",
    "def isortSteps(a):\n",
    "    #print (a);\n",
    "    v = []\n",
    "    for i in range(len(a)):\n",
    "        v.append(a[i])\n",
    "        \n",
    "    steps = 0\n",
    "    for i in range(1,len(v)):\n",
    "        x = v[i]\n",
    "        j = i-1\n",
    "        while (j > -1) and (v[j] > x):\n",
    "            v[j+1] = v[j]\n",
    "            j = j -1\n",
    "            steps = steps + 3\n",
    "        steps = steps + 1\n",
    "        v[j+1] = x\n",
    "        steps = steps + 4\n",
    "    steps = steps + 1\n",
    "    #print (steps)\n",
    "    arr.append(steps)\n",
    "    return steps\n",
    "\n",
    "def swap(v,i,j):\n",
    "    t = v[i]\n",
    "    v[i] = v[j]\n",
    "    v[j] = t\n",
    "\n",
    "def perm(v,i,n):\n",
    "    global npermut\n",
    "    global total\n",
    "    global cases\n",
    "    \n",
    "    j=0\n",
    "    k=0\n",
    "    l=0\n",
    "    if i == n:\n",
    "        npermut = npermut + 1\n",
    "        k = isortSteps(v)\n",
    "        total = total + k\n",
    "        cases[k] = cases[k] + 1\n",
    "    else:\n",
    "        for j in range (i,n):\n",
    "            swap (v, i, j)\n",
    "            perm (v, i+1, n)\n",
    "            swap (v, i, j)\n",
    "\n",
    "n=4\n",
    "v=[]\n",
    "for i in range(n):\n",
    "    v.append(i+1)\n",
    "\n",
    "perm(v,0,len(v))\n",
    "\n",
    "f = n\n",
    "fac = 1\n",
    "while f > 0:\n",
    "    fac = fac * f\n",
    "    f = f -1\n",
    "    \n",
    "prom = 0\n",
    "suma = 0    \n",
    "for k in range (0,len(arr)):\n",
    "    suma = suma + arr[k]\n",
    "    \n",
    "prom = (suma)/fac\n",
    "print (\"el promedio es : \",  prom)\n",
    "print (arr)\n",
    "plt.hist(arr,fac,(min(arr),max(arr)));"
   ]
  },
  {
   "cell_type": "markdown",
   "metadata": {},
   "source": [
    "### Comparaciones"
   ]
  },
  {
   "cell_type": "code",
   "execution_count": 11,
   "metadata": {},
   "outputs": [
    {
     "name": "stdout",
     "output_type": "stream",
     "text": [
      "el promedio es :  9.0\n",
      "[3, 5, 5, 7, 9, 7, 5, 7, 7, 9, 11, 9, 9, 11, 7, 9, 11, 13, 13, 11, 15, 13, 11, 9]\n"
     ]
    },
    {
     "data": {
      "image/png": "[encoded data removed]",
      "text/plain": [
       "<Figure size 432x288 with 1 Axes>"
      ]
     },
     "metadata": {},
     "output_type": "display_data"
    }
   ],
   "source": [
    "import numpy as np\n",
    "\n",
    "npermut = 0\n",
    "total = 0\n",
    "cases = np.zeros(1001)\n",
    "arr = []\n",
    "\n",
    "def isortComparisons(a):\n",
    "    #print (a);\n",
    "    v = []\n",
    "    for i in range(len(a)):\n",
    "        v.append(a[i])\n",
    "        \n",
    "    steps = 0\n",
    "    for i in range(1,len(v)):\n",
    "        x = v[i]\n",
    "        j = i-1\n",
    "        steps = steps + 1\n",
    "        while (j > -1) and (v[j] > x):\n",
    "            v[j+1] = v[j]\n",
    "            j = j -1\n",
    "            steps = steps + 2\n",
    "        \n",
    "        v[j+1] = x\n",
    "    #print (steps)\n",
    "    arr.append(steps)\n",
    "    return steps\n",
    "\n",
    "def swap(v,i,j):\n",
    "    t = v[i]\n",
    "    v[i] = v[j]\n",
    "    v[j] = t\n",
    "\n",
    "def perm(v,i,n):\n",
    "    global npermut\n",
    "    global total\n",
    "    global cases\n",
    "    \n",
    "    j=0\n",
    "    k=0\n",
    "    l=0\n",
    "    if i == n:\n",
    "        npermut = npermut + 1\n",
    "        k = isortComparisons(v)\n",
    "        total = total + k\n",
    "        cases[k] = cases[k] + 1\n",
    "    else:\n",
    "        for j in range (i,n):\n",
    "            swap (v, i, j)\n",
    "            perm (v, i+1, n)\n",
    "            swap (v, i, j)\n",
    "\n",
    "n=4\n",
    "v=[]\n",
    "for i in range(n):\n",
    "    v.append(i+1)\n",
    "\n",
    "perm(v,0,len(v))\n",
    "\n",
    "f = n\n",
    "fac = 1\n",
    "while f > 0:\n",
    "    fac = fac * f\n",
    "    f = f -1\n",
    "    \n",
    "prom = 0\n",
    "suma = 0    \n",
    "for k in range (0,len(arr)):\n",
    "    suma = suma + arr[k]\n",
    "    \n",
    "prom = (suma)/fac\n",
    "print (\"el promedio es : \",  prom)\n",
    "print (arr)\n",
    "plt.hist(arr,fac,(min(arr),max(arr)));"
   ]
  },
  {
   "cell_type": "markdown",
   "metadata": {},
   "source": [
    "### Intercambios"
   ]
  },
  {
   "cell_type": "code",
   "execution_count": 12,
   "metadata": {},
   "outputs": [
    {
     "name": "stdout",
     "output_type": "stream",
     "text": [
      "el promedio es :  3.0\n",
      "[0, 1, 1, 2, 3, 2, 1, 2, 2, 3, 4, 3, 3, 4, 2, 3, 4, 5, 5, 4, 6, 5, 4, 3]\n"
     ]
    },
    {
     "data": {
      "image/png": "[encoded data removed]",
      "text/plain": [
       "<Figure size 432x288 with 1 Axes>"
      ]
     },
     "metadata": {},
     "output_type": "display_data"
    }
   ],
   "source": [
    "import numpy as np\n",
    "\n",
    "npermut = 0\n",
    "total = 0\n",
    "cases = np.zeros(1001)\n",
    "arr = []\n",
    "\n",
    "def isortSwaps(a):\n",
    "    #print (a);\n",
    "    v = []\n",
    "    for i in range(len(a)):\n",
    "        v.append(a[i])\n",
    "        \n",
    "    steps = 0\n",
    "    for i in range(1,len(v)):\n",
    "        x = v[i]\n",
    "        j = i-1\n",
    "        while (j > -1) and (v[j] > x):\n",
    "            v[j+1] = v[j]\n",
    "            j = j -1\n",
    "            steps = steps + 1\n",
    "        \n",
    "        v[j+1] = x\n",
    "    #print (steps)\n",
    "    arr.append(steps)\n",
    "    return steps\n",
    "\n",
    "def swap(v,i,j):\n",
    "    t = v[i]\n",
    "    v[i] = v[j]\n",
    "    v[j] = t\n",
    "\n",
    "def perm(v,i,n):\n",
    "    global npermut\n",
    "    global total\n",
    "    global cases\n",
    "    \n",
    "    j=0\n",
    "    k=0\n",
    "    l=0\n",
    "    if i == n:\n",
    "        npermut = npermut + 1\n",
    "        k = isortSwaps(v)\n",
    "        total = total + k\n",
    "        cases[k] = cases[k] + 1\n",
    "    else:\n",
    "        for j in range (i,n):\n",
    "            swap (v, i, j)\n",
    "            perm (v, i+1, n)\n",
    "            swap (v, i, j)\n",
    "\n",
    "n=4\n",
    "v=[]\n",
    "for i in range(n):\n",
    "    v.append(i+1)\n",
    "\n",
    "perm(v,0,len(v))\n",
    "\n",
    "f = n\n",
    "fac = 1\n",
    "while f > 0:\n",
    "    fac = fac * f\n",
    "    f = f -1\n",
    "    \n",
    "prom = 0\n",
    "suma = 0    \n",
    "for k in range (0,len(arr)):\n",
    "    suma = suma + arr[k]\n",
    "    \n",
    "prom = (suma)/fac\n",
    "print (\"el promedio es : \",  prom)\n",
    "print (arr)\n",
    "plt.hist(arr,fac,(min(arr),max(arr)));"
   ]
  },
  {
   "cell_type": "markdown",
   "metadata": {},
   "source": [
    "### Preguntas en el while"
   ]
  },
  {
   "cell_type": "code",
   "execution_count": 14,
   "metadata": {},
   "outputs": [
    {
     "name": "stdout",
     "output_type": "stream",
     "text": [
      "el promedio es :  6.0\n",
      "[0, 2, 2, 4, 6, 4, 2, 4, 4, 6, 8, 6, 6, 8, 4, 6, 8, 10, 10, 8, 12, 10, 8, 6]\n"
     ]
    },
    {
     "data": {
      "image/png": "[encoded data removed]",
      "text/plain": [
       "<Figure size 432x288 with 1 Axes>"
      ]
     },
     "metadata": {},
     "output_type": "display_data"
    }
   ],
   "source": [
    "import numpy as np\n",
    "\n",
    "npermut = 0\n",
    "total = 0\n",
    "cases = np.zeros(1001)\n",
    "arr = []\n",
    "\n",
    "def isortQuestion(a):\n",
    "    #print (a);\n",
    "    v = []\n",
    "    for i in range(len(a)):\n",
    "        v.append(a[i])\n",
    "        \n",
    "    steps = 0\n",
    "    for i in range(1,len(v)):\n",
    "        x = v[i]\n",
    "        j = i-1\n",
    "        while (j > -1) and (v[j] > x):\n",
    "            v[j+1] = v[j]\n",
    "            j = j -1\n",
    "            steps = steps + 2\n",
    "        \n",
    "        v[j+1] = x\n",
    "    #print (steps)\n",
    "    arr.append(steps)\n",
    "    return steps\n",
    "\n",
    "def swap(v,i,j):\n",
    "    t = v[i]\n",
    "    v[i] = v[j]\n",
    "    v[j] = t\n",
    "\n",
    "def perm(v,i,n):\n",
    "    global npermut\n",
    "    global total\n",
    "    global cases\n",
    "    \n",
    "    j=0\n",
    "    k=0\n",
    "    l=0\n",
    "    if i == n:\n",
    "        npermut = npermut + 1\n",
    "        k = isortQuestion(v)\n",
    "        total = total + k\n",
    "        cases[k] = cases[k] + 1\n",
    "    else:\n",
    "        for j in range (i,n):\n",
    "            swap (v, i, j)\n",
    "            perm (v, i+1, n)\n",
    "            swap (v, i, j)\n",
    "\n",
    "n=4\n",
    "v=[]\n",
    "for i in range(n):\n",
    "    v.append(i+1)\n",
    "\n",
    "perm(v,0,len(v))\n",
    "\n",
    "f = n\n",
    "fac = 1\n",
    "while f > 0:\n",
    "    fac = fac * f\n",
    "    f = f -1\n",
    "    \n",
    "prom = 0\n",
    "suma = 0    \n",
    "for k in range (0,len(arr)):\n",
    "    suma = suma + arr[k]\n",
    "    \n",
    "prom = (suma)/fac\n",
    "print (\"el promedio es : \",  prom)\n",
    "print (arr)\n",
    "plt.hist(arr,fac,(min(arr),max(arr)));"
   ]
  }
 ],
 "metadata": {
  "kernelspec": {
   "display_name": "Python 3",
   "language": "python",
   "name": "python3"
  },
  "language_info": {
   "codemirror_mode": {
    "name": "ipython",
    "version": 3
   },
   "file_extension": ".py",
   "mimetype": "text/x-python",
   "name": "python",
   "nbconvert_exporter": "python",
   "pygments_lexer": "ipython3",
   "version": "3.6.5"
  }
 },
 "nbformat": 4,
 "nbformat_minor": 2
}
