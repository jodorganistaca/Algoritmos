{
 "cells": [
  {
   "cell_type": "markdown",
   "metadata": {},
   "source": [
    "# INSERTION SORT"
   ]
  },
  {
   "cell_type": "markdown",
   "metadata": {},
   "source": [
    " Valor que puede generar las permutaciones en memoria n=11"
   ]
  },
  {
   "cell_type": "code",
   "execution_count": 9,
   "metadata": {},
   "outputs": [],
   "source": [
    "import matplotlib.pyplot as plt\n",
    "from itertools import permutations\n",
    "import itertools"
   ]
  },
  {
   "cell_type": "markdown",
   "metadata": {},
   "source": [
    "### Número de instrucciones"
   ]
  },
  {
   "cell_type": "code",
   "execution_count": 10,
   "metadata": {},
   "outputs": [
    {
     "name": "stdout",
     "output_type": "stream",
     "text": [
      "Promedio del numero de instrucciones 78.0\n"
     ]
    },
    {
     "data": {
      "image/png": "[encoded data removed]",
      "text/plain": [
       "<Figure size 432x288 with 1 Axes>"
      ]
     },
     "metadata": {},
     "output_type": "display_data"
    }
   ],
   "source": [
    "import numpy as np\n",
    "\n",
    "npermut = 0\n",
    "total = 0\n",
    "cases = np.zeros(1001)\n",
    "prob = np.zeros(1001)\n",
    "minCase = 1000\n",
    "maxCase = 0\n",
    "\n",
    "def isortSteps(a):\n",
    "    #print (a);\n",
    "    v = []\n",
    "    for i in range(len(a)):\n",
    "        v.append(a[i])\n",
    "        \n",
    "    steps = 0\n",
    "    for i in range(1,len(v)):\n",
    "        x = v[i]\n",
    "        j = i-1\n",
    "        while (j > -1) and (v[j] > x):\n",
    "            v[j+1] = v[j]\n",
    "            j = j -1\n",
    "            steps = steps + 3\n",
    "        steps = steps + 1\n",
    "        v[j+1] = x\n",
    "        steps = steps + 4\n",
    "    steps = steps + 1\n",
    "    #print (steps)\n",
    "    return steps\n",
    "\n",
    "def perm(v):\n",
    "    global npermut\n",
    "    global total\n",
    "    global cases\n",
    "    \n",
    "    p = list(itertools.permutations(v))\n",
    "    \n",
    "    for i in range(len(p)):\n",
    "        k =isortSteps(p[i])\n",
    "        total = total+k\n",
    "        cases[k] = cases[k]+1\n",
    "    npermut=len(p)\n",
    "\n",
    "n=8\n",
    "v=[]\n",
    "for i in range(n):\n",
    "    v.append(i+1)\n",
    "\n",
    "perm(v)\n",
    "\n",
    "for k in range (1001):\n",
    "    prob[k] = cases[k]/float(npermut)\n",
    "    if (cases[k]!=0) & (minCase > k):\n",
    "        minCase = k\n",
    "    if (cases[k]!=0) & (maxCase < k):\n",
    "        maxCase = k\n",
    "\n",
    "plt.bar(range(minCase,maxCase+1),prob[minCase:maxCase+1])\n",
    "plt.xlabel('Numero de instrucciones')\n",
    "plt.ylabel('Probabilidad')\n",
    "plt.title('Frecuencia del numero de instrucciones')\n",
    "print ('Promedio del numero de instrucciones',(float(total)/npermut))"
   ]
  },
  {
   "cell_type": "markdown",
   "metadata": {},
   "source": [
    "### Comparaciones"
   ]
  },
  {
   "cell_type": "code",
   "execution_count": 11,
   "metadata": {},
   "outputs": [
    {
     "name": "stdout",
     "output_type": "stream",
     "text": [
      "Promedio del numero de comparaciones 19.28214285714286\n"
     ]
    },
    {
     "data": {
      "image/png": "[encoded data removed]",
      "text/plain": [
       "<Figure size 432x288 with 1 Axes>"
      ]
     },
     "metadata": {},
     "output_type": "display_data"
    }
   ],
   "source": [
    "import numpy as np\n",
    "\n",
    "npermut = 0\n",
    "total = 0\n",
    "cases = np.zeros(1001)\n",
    "prob = np.zeros(1001)\n",
    "minCase = 1000\n",
    "maxCase = 0\n",
    "\n",
    "def isortSteps(a):\n",
    "    #print (a);\n",
    "    v = []\n",
    "    for i in range(len(a)):\n",
    "        v.append(a[i])\n",
    "        \n",
    "    steps = 0\n",
    "    for i in range(1,len(v)):\n",
    "        x = v[i]\n",
    "        j = i-1\n",
    "        while (j > -1) and (v[j] > x):\n",
    "            v[j+1] = v[j]\n",
    "            j = j -1\n",
    "            steps = steps + 1\n",
    "        if j != -1:\n",
    "            steps = steps + 1\n",
    "        v[j+1] = x\n",
    "    #print (steps)\n",
    "    return steps\n",
    "\n",
    "def perm(v):\n",
    "    global npermut\n",
    "    global total\n",
    "    global cases\n",
    "    \n",
    "    p = list(itertools.permutations(v))\n",
    "    \n",
    "    for i in range(len(p)):\n",
    "        k =isortSteps(p[i])\n",
    "        total = total+k\n",
    "        cases[k] = cases[k]+1\n",
    "    npermut=len(p)\n",
    "\n",
    "n=8\n",
    "v=[]\n",
    "for i in range(n):\n",
    "    v.append(i+1)\n",
    "\n",
    "perm(v)\n",
    "\n",
    "for k in range (1001):\n",
    "    prob[k] = cases[k]/float(npermut)\n",
    "    if (cases[k]!=0) & (minCase > k):\n",
    "        minCase = k\n",
    "    if (cases[k]!=0) & (maxCase < k):\n",
    "        maxCase = k\n",
    "\n",
    "plt.bar(range(minCase,maxCase+1),prob[minCase:maxCase+1])\n",
    "plt.xlabel('Comparaciones')\n",
    "plt.ylabel('Probabilidad')\n",
    "plt.title('Frecuencia del numero de comparaciones')\n",
    "print ('Promedio del numero de comparaciones',(float(total)/npermut))"
   ]
  },
  {
   "cell_type": "markdown",
   "metadata": {},
   "source": [
    "### Intercambios"
   ]
  },
  {
   "cell_type": "code",
   "execution_count": 12,
   "metadata": {},
   "outputs": [
    {
     "name": "stdout",
     "output_type": "stream",
     "text": [
      "Promedio del numero de intercambios 14.0\n"
     ]
    },
    {
     "data": {
      "image/png": "[encoded data removed]",
      "text/plain": [
       "<Figure size 432x288 with 1 Axes>"
      ]
     },
     "metadata": {},
     "output_type": "display_data"
    }
   ],
   "source": [
    "import numpy as np\n",
    "\n",
    "npermut = 0\n",
    "total = 0\n",
    "cases = np.zeros(1001)\n",
    "prob = np.zeros(1001)\n",
    "minCase = 1000\n",
    "maxCase = 0\n",
    "\n",
    "def isortSteps(a):\n",
    "    #print (a);\n",
    "    v = []\n",
    "    for i in range(len(a)):\n",
    "        v.append(a[i])\n",
    "        \n",
    "    steps = 0\n",
    "    for i in range(1,len(v)):\n",
    "        x = v[i]\n",
    "        j = i-1\n",
    "        while (j > -1) and (v[j] > x):\n",
    "            v[j+1] = v[j]\n",
    "            j = j -1\n",
    "            steps = steps + 1\n",
    "        v[j+1] = x\n",
    "    #print (steps)\n",
    "    return steps\n",
    "\n",
    "def perm(v):\n",
    "    global npermut\n",
    "    global total\n",
    "    global cases\n",
    "    \n",
    "    p = list(itertools.permutations(v))\n",
    "    \n",
    "    for i in range(len(p)):\n",
    "        k =isortSteps(p[i])\n",
    "        total = total+k\n",
    "        cases[k] = cases[k]+1\n",
    "    npermut=len(p)\n",
    "\n",
    "n=8\n",
    "v=[]\n",
    "for i in range(n):\n",
    "    v.append(i+1)\n",
    "\n",
    "perm(v)\n",
    "\n",
    "for k in range (1001):\n",
    "    prob[k] = cases[k]/float(npermut)\n",
    "    if (cases[k]!=0) & (minCase > k):\n",
    "        minCase = k\n",
    "    if (cases[k]!=0) & (maxCase < k):\n",
    "        maxCase = k\n",
    "\n",
    "plt.bar(range(minCase,maxCase+1),prob[minCase:maxCase+1])\n",
    "plt.xlabel('Intercambion')\n",
    "plt.ylabel('Probabilidad')\n",
    "plt.title('Frecuencia del numero de intercambios')\n",
    "print ('Promedio del numero de intercambios',(float(total)/npermut))"
   ]
  },
  {
   "cell_type": "markdown",
   "metadata": {},
   "source": [
    "### Preguntas en el while"
   ]
  },
  {
   "cell_type": "code",
   "execution_count": 8,
   "metadata": {},
   "outputs": [
    {
     "name": "stdout",
     "output_type": "stream",
     "text": [
      "Promedio del numero de preguntas en el while 21.0\n"
     ]
    },
    {
     "data": {
      "image/png": "[encoded data removed]",
      "text/plain": [
       "<Figure size 432x288 with 1 Axes>"
      ]
     },
     "metadata": {},
     "output_type": "display_data"
    }
   ],
   "source": [
    "import numpy as np\n",
    "\n",
    "npermut = 0\n",
    "total = 0\n",
    "cases = np.zeros(1001)\n",
    "prob = np.zeros(1001)\n",
    "minCase = 1000\n",
    "maxCase = 0\n",
    "\n",
    "def isortSteps(a):\n",
    "    #print (a);\n",
    "    v = []\n",
    "    for i in range(len(a)):\n",
    "        v.append(a[i])\n",
    "        \n",
    "    steps = 0\n",
    "    for i in range(1,len(v)):\n",
    "        x = v[i]\n",
    "        j = i-1\n",
    "        while (j > -1) and (v[j] > x):\n",
    "            v[j+1] = v[j]\n",
    "            j = j -1\n",
    "            steps = steps + 1\n",
    "        steps = steps + 1\n",
    "        v[j+1] = x\n",
    "    #print (steps)\n",
    "    return steps\n",
    "\n",
    "def perm(v):\n",
    "    global npermut\n",
    "    global total\n",
    "    global cases\n",
    "    \n",
    "    p = list(itertools.permutations(v))\n",
    "    \n",
    "    for i in range(len(p)):\n",
    "        k =isortSteps(p[i])\n",
    "        total = total+k\n",
    "        cases[k] = cases[k]+1\n",
    "    npermut=len(p)\n",
    "\n",
    "n=8\n",
    "v=[]\n",
    "for i in range(n):\n",
    "    v.append(i+1)\n",
    "\n",
    "perm(v)\n",
    "\n",
    "for k in range (1001):\n",
    "    prob[k] = cases[k]/float(npermut)\n",
    "    if (cases[k]!=0) & (minCase > k):\n",
    "        minCase = k\n",
    "    if (cases[k]!=0) & (maxCase < k):\n",
    "        maxCase = k\n",
    "\n",
    "plt.bar(range(minCase,maxCase+1),prob[minCase:maxCase+1])\n",
    "plt.xlabel('Intercambion')\n",
    "plt.ylabel('Probabilidad')\n",
    "plt.title('Frecuencia del numero de preguntasen el while')\n",
    "print ('Promedio del numero de preguntas en el while',(float(total)/npermut))"
   ]
  },
  {
   "cell_type": "markdown",
   "metadata": {},
   "source": [
    "#### Código Daniel Jimenez"
   ]
  },
  {
   "cell_type": "markdown",
   "metadata": {},
   "source": [
    "### Número de instrucciones"
   ]
  },
  {
   "cell_type": "code",
   "execution_count": 5,
   "metadata": {},
   "outputs": [
    {
     "name": "stdout",
     "output_type": "stream",
     "text": [
      "el promedio es :  25.0\n"
     ]
    },
    {
     "data": {
      "image/png": "[encoded data removed]",
      "text/plain": [
       "<Figure size 432x288 with 1 Axes>"
      ]
     },
     "metadata": {},
     "output_type": "display_data"
    }
   ],
   "source": [
    "import numpy as np\n",
    "\n",
    "npermut = 0\n",
    "total = 0\n",
    "cases = np.zeros(1001)\n",
    "arr = []\n",
    "\n",
    "def isortSteps(a):\n",
    "    #print (a);\n",
    "    v = []\n",
    "    for i in range(len(a)):\n",
    "        v.append(a[i])\n",
    "        \n",
    "    steps = 0\n",
    "    for i in range(1,len(v)):\n",
    "        x = v[i]\n",
    "        j = i-1\n",
    "        while (j > -1) and (v[j] > x):\n",
    "            v[j+1] = v[j]\n",
    "            j = j -1\n",
    "            steps = steps + 3\n",
    "        steps = steps + 1\n",
    "        v[j+1] = x\n",
    "        steps = steps + 4\n",
    "    steps = steps + 1\n",
    "    #print (steps)\n",
    "    arr.append(steps)\n",
    "    return steps\n",
    "\n",
    "def swap(v,i,j):\n",
    "    t = v[i]\n",
    "    v[i] = v[j]\n",
    "    v[j] = t\n",
    "\n",
    "def perm(v,i,n):\n",
    "    global npermut\n",
    "    global total\n",
    "    global cases\n",
    "    \n",
    "    j=0\n",
    "    k=0\n",
    "    l=0\n",
    "    if i == n:\n",
    "        npermut = npermut + 1\n",
    "        k = isortSteps(v)\n",
    "        total = total + k\n",
    "        cases[k] = cases[k] + 1\n",
    "    else:\n",
    "        for j in range (i,n):\n",
    "            swap (v, i, j)\n",
    "            perm (v, i+1, n)\n",
    "            swap (v, i, j)\n",
    "\n",
    "n=4\n",
    "v=[]\n",
    "for i in range(n):\n",
    "    v.append(i+1)\n",
    "\n",
    "perm(v,0,len(v))\n",
    "\n",
    "f = n\n",
    "fac = 1\n",
    "while f > 0:\n",
    "    fac = fac * f\n",
    "    f = f -1\n",
    "    \n",
    "prom = 0\n",
    "suma = 0    \n",
    "for k in range (0,len(arr)):\n",
    "    suma = suma + arr[k]\n",
    "    \n",
    "prom = (suma)/fac\n",
    "print (\"el promedio es : \",  prom)\n",
    "plt.hist(arr,fac,(min(arr),max(arr)));"
   ]
  },
  {
   "cell_type": "markdown",
   "metadata": {},
   "source": [
    "### Comparaciones"
   ]
  },
  {
   "cell_type": "code",
   "execution_count": null,
   "metadata": {},
   "outputs": [],
   "source": [
    "import numpy as np\n",
    "\n",
    "npermut = 0\n",
    "total = 0\n",
    "cases = np.zeros(1001)\n",
    "arr = []\n",
    "\n",
    "def isortComparisons(a):\n",
    "    #print (a);\n",
    "    v = []\n",
    "    for i in range(len(a)):\n",
    "        v.append(a[i])\n",
    "        \n",
    "    steps = 0\n",
    "    for i in range(1,len(v)):\n",
    "        x = v[i]\n",
    "        j = i-1\n",
    "        steps = steps + 1\n",
    "        while (j > -1) and (v[j] > x):\n",
    "            v[j+1] = v[j]\n",
    "            j = j -1\n",
    "            steps = steps + 2\n",
    "        \n",
    "        v[j+1] = x\n",
    "    #print (steps)\n",
    "    arr.append(steps)\n",
    "    return steps\n",
    "\n",
    "def swap(v,i,j):\n",
    "    t = v[i]\n",
    "    v[i] = v[j]\n",
    "    v[j] = t\n",
    "\n",
    "def perm(v,i,n):\n",
    "    global npermut\n",
    "    global total\n",
    "    global cases\n",
    "    \n",
    "    j=0\n",
    "    k=0\n",
    "    l=0\n",
    "    if i == n:\n",
    "        npermut = npermut + 1\n",
    "        k = isortComparisons(v)\n",
    "        total = total + k\n",
    "        cases[k] = cases[k] + 1\n",
    "    else:\n",
    "        for j in range (i,n):\n",
    "            swap (v, i, j)\n",
    "            perm (v, i+1, n)\n",
    "            swap (v, i, j)\n",
    "\n",
    "n=8\n",
    "v=[]\n",
    "for i in range(n):\n",
    "    v.append(i+1)\n",
    "\n",
    "perm(v,0,len(v))\n",
    "\n",
    "f = n\n",
    "fac = 1\n",
    "while f > 0:\n",
    "    fac = fac * f\n",
    "    f = f -1\n",
    "    \n",
    "prom = 0\n",
    "suma = 0    \n",
    "for k in range (0,len(arr)):\n",
    "    suma = suma + arr[k]\n",
    "    \n",
    "prom = (suma)/fac\n",
    "print (\"el promedio es : \",  prom)\n",
    "print (arr)\n",
    "plt.hist(arr,fac,(min(arr),max(arr)));"
   ]
  },
  {
   "cell_type": "markdown",
   "metadata": {},
   "source": [
    "### Intercambios"
   ]
  },
  {
   "cell_type": "code",
   "execution_count": 12,
   "metadata": {},
   "outputs": [
    {
     "name": "stdout",
     "output_type": "stream",
     "text": [
      "el promedio es :  3.0\n",
      "[0, 1, 1, 2, 3, 2, 1, 2, 2, 3, 4, 3, 3, 4, 2, 3, 4, 5, 5, 4, 6, 5, 4, 3]\n"
     ]
    },
    {
     "data": {
      "image/png": "[encoded data removed]",
      "text/plain": [
       "<Figure size 432x288 with 1 Axes>"
      ]
     },
     "metadata": {},
     "output_type": "display_data"
    }
   ],
   "source": [
    "import numpy as np\n",
    "\n",
    "npermut = 0\n",
    "total = 0\n",
    "cases = np.zeros(1001)\n",
    "arr = []\n",
    "\n",
    "def isortSwaps(a):\n",
    "    #print (a);\n",
    "    v = []\n",
    "    for i in range(len(a)):\n",
    "        v.append(a[i])\n",
    "        \n",
    "    steps = 0\n",
    "    for i in range(1,len(v)):\n",
    "        x = v[i]\n",
    "        j = i-1\n",
    "        while (j > -1) and (v[j] > x):\n",
    "            v[j+1] = v[j]\n",
    "            j = j -1\n",
    "            steps = steps + 1\n",
    "        \n",
    "        v[j+1] = x\n",
    "    #print (steps)\n",
    "    arr.append(steps)\n",
    "    return steps\n",
    "\n",
    "def swap(v,i,j):\n",
    "    t = v[i]\n",
    "    v[i] = v[j]\n",
    "    v[j] = t\n",
    "\n",
    "def perm(v,i,n):\n",
    "    global npermut\n",
    "    global total\n",
    "    global cases\n",
    "    \n",
    "    j=0\n",
    "    k=0\n",
    "    l=0\n",
    "    if i == n:\n",
    "        npermut = npermut + 1\n",
    "        k = isortSwaps(v)\n",
    "        total = total + k\n",
    "        cases[k] = cases[k] + 1\n",
    "    else:\n",
    "        for j in range (i,n):\n",
    "            swap (v, i, j)\n",
    "            perm (v, i+1, n)\n",
    "            swap (v, i, j)\n",
    "\n",
    "n=4\n",
    "v=[]\n",
    "for i in range(n):\n",
    "    v.append(i+1)\n",
    "\n",
    "perm(v,0,len(v))\n",
    "\n",
    "f = n\n",
    "fac = 1\n",
    "while f > 0:\n",
    "    fac = fac * f\n",
    "    f = f -1\n",
    "    \n",
    "prom = 0\n",
    "suma = 0    \n",
    "for k in range (0,len(arr)):\n",
    "    suma = suma + arr[k]\n",
    "    \n",
    "prom = (suma)/fac\n",
    "print (\"el promedio es : \",  prom)\n",
    "print (arr)\n",
    "plt.hist(arr,fac,(min(arr),max(arr)));"
   ]
  },
  {
   "cell_type": "markdown",
   "metadata": {},
   "source": [
    "### Preguntas en el while"
   ]
  },
  {
   "cell_type": "code",
   "execution_count": 14,
   "metadata": {},
   "outputs": [
    {
     "name": "stdout",
     "output_type": "stream",
     "text": [
      "el promedio es :  6.0\n",
      "[0, 2, 2, 4, 6, 4, 2, 4, 4, 6, 8, 6, 6, 8, 4, 6, 8, 10, 10, 8, 12, 10, 8, 6]\n"
     ]
    },
    {
     "data": {
      "image/png": "[encoded data removed]",
      "text/plain": [
       "<Figure size 432x288 with 1 Axes>"
      ]
     },
     "metadata": {},
     "output_type": "display_data"
    }
   ],
   "source": [
    "import numpy as np\n",
    "\n",
    "npermut = 0\n",
    "total = 0\n",
    "cases = np.zeros(1001)\n",
    "arr = []\n",
    "\n",
    "def isortQuestion(a):\n",
    "    #print (a);\n",
    "    v = []\n",
    "    for i in range(len(a)):\n",
    "        v.append(a[i])\n",
    "        \n",
    "    steps = 0\n",
    "    for i in range(1,len(v)):\n",
    "        x = v[i]\n",
    "        j = i-1\n",
    "        while (j > -1) and (v[j] > x):\n",
    "            v[j+1] = v[j]\n",
    "            j = j -1\n",
    "            steps = steps + 2\n",
    "        \n",
    "        v[j+1] = x\n",
    "    #print (steps)\n",
    "    arr.append(steps)\n",
    "    return steps\n",
    "\n",
    "def swap(v,i,j):\n",
    "    t = v[i]\n",
    "    v[i] = v[j]\n",
    "    v[j] = t\n",
    "\n",
    "def perm(v,i,n):\n",
    "    global npermut\n",
    "    global total\n",
    "    global cases\n",
    "    \n",
    "    j=0\n",
    "    k=0\n",
    "    l=0\n",
    "    if i == n:\n",
    "        npermut = npermut + 1\n",
    "        k = isortQuestion(v)\n",
    "        total = total + k\n",
    "        cases[k] = cases[k] + 1\n",
    "    else:\n",
    "        for j in range (i,n):\n",
    "            swap (v, i, j)\n",
    "            perm (v, i+1, n)\n",
    "            swap (v, i, j)\n",
    "\n",
    "n=4\n",
    "v=[]\n",
    "for i in range(n):\n",
    "    v.append(i+1)\n",
    "\n",
    "perm(v,0,len(v))\n",
    "\n",
    "f = n\n",
    "fac = 1\n",
    "while f > 0:\n",
    "    fac = fac * f\n",
    "    f = f -1\n",
    "    \n",
    "prom = 0\n",
    "suma = 0    \n",
    "for k in range (0,len(arr)):\n",
    "    suma = suma + arr[k]\n",
    "    \n",
    "prom = (suma)/fac\n",
    "print (\"el promedio es : \",  prom)\n",
    "print (arr)\n",
    "plt.hist(arr,fac,(min(arr),max(arr)));"
   ]
  }
 ],
 "metadata": {
  "kernelspec": {
   "display_name": "Python 3",
   "language": "python",
   "name": "python3"
  },
  "language_info": {
   "codemirror_mode": {
    "name": "ipython",
    "version": 3
   },
   "file_extension": ".py",
   "mimetype": "text/x-python",
   "name": "python",
   "nbconvert_exporter": "python",
   "pygments_lexer": "ipython3",
   "version": "3.6.5"
  }
 },
 "nbformat": 4,
 "nbformat_minor": 2
}
